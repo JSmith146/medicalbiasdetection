{
 "cells": [
  {
   "cell_type": "code",
   "execution_count": 1,
   "metadata": {},
   "outputs": [
    {
     "data": {
      "text/html": [
       "<style type='text/css'>\n",
       ".datatable table.frame { margin-bottom: 0; }\n",
       ".datatable table.frame thead { border-bottom: none; }\n",
       ".datatable table.frame tr.coltypes td {  color: #FFFFFF;  line-height: 6px;  padding: 0 0.5em;}\n",
       ".datatable .bool    { background: #DDDD99; }\n",
       ".datatable .object  { background: #565656; }\n",
       ".datatable .int     { background: #5D9E5D; }\n",
       ".datatable .float   { background: #4040CC; }\n",
       ".datatable .str     { background: #CC4040; }\n",
       ".datatable .time    { background: #40CC40; }\n",
       ".datatable .row_index {  background: var(--jp-border-color3);  border-right: 1px solid var(--jp-border-color0);  color: var(--jp-ui-font-color3);  font-size: 9px;}\n",
       ".datatable .frame tbody td { text-align: left; }\n",
       ".datatable .frame tr.coltypes .row_index {  background: var(--jp-border-color0);}\n",
       ".datatable th:nth-child(2) { padding-left: 12px; }\n",
       ".datatable .hellipsis {  color: var(--jp-cell-editor-border-color);}\n",
       ".datatable .vellipsis {  background: var(--jp-layout-color0);  color: var(--jp-cell-editor-border-color);}\n",
       ".datatable .na {  color: var(--jp-cell-editor-border-color);  font-size: 80%;}\n",
       ".datatable .sp {  opacity: 0.25;}\n",
       ".datatable .footer { font-size: 9px; }\n",
       ".datatable .frame_dimensions {  background: var(--jp-border-color3);  border-top: 1px solid var(--jp-border-color0);  color: var(--jp-ui-font-color3);  display: inline-block;  opacity: 0.6;  padding: 1px 10px 1px 5px;}\n",
       "</style>\n"
      ],
      "text/plain": [
       "<IPython.core.display.HTML object>"
      ]
     },
     "metadata": {},
     "output_type": "display_data"
    }
   ],
   "source": [
    "# Data Manipulation\n",
    "import pandas as pd\n",
    "import numpy as np\n",
    "import json\n",
    "\n",
    "from tableone import TableOne\n",
    "\n",
    "# Operating System\n",
    "import os\n",
    "\n",
    "# Convenience\n",
    "from tqdm import tqdm\n",
    "\n",
    "import warnings\n",
    "warnings.filterwarnings(\"ignore\")\n",
    "\n",
    "from medicalbiasdetection import utils\n",
    "\n",
    "# Configuration\n",
    "pd.set_option('display.max_rows', 250)\n",
    "pd.set_option('display.max_columns', 250)\n",
    "\n",
    "# Global Variables\n",
    "RUN = 1\n",
    "RANDOM_STATE = 0\n",
    "\n",
    "# setup configuration files\n",
    "config = utils.read_yaml()\n",
    "LOG_DIR = config['LOG']['dir'].format(RUN=RUN)\n",
    "LOG_PATH = config['LOG']['path'].format(RUN=RUN)\n",
    "os.environ['LOG_PATH'] = LOG_PATH\n",
    "os.environ['RUN'] = str(RUN)\n",
    "\n",
    "\n",
    "# # Create Run Directory\n",
    "from medicalbiasdetection import (model as md, cohort, process)\n",
    "\n"
   ]
  },
  {
   "cell_type": "markdown",
   "metadata": {},
   "source": [
    "# Load Reference Data"
   ]
  },
  {
   "cell_type": "code",
   "execution_count": 2,
   "metadata": {},
   "outputs": [
    {
     "name": "stdout",
     "output_type": "stream",
     "text": [
      "Number of encounters (csn): 119733\n",
      "Years: [2016 2017 2018 2019 2020]\n",
      "Start year: 2016\n",
      "End year: 2020\n",
      "Number of unique patient visits: 119733\n",
      "Number of unique patients: 73484\n",
      "Number of sepsis=0 patients: 101269 (84.58%)\n",
      "Number of sepsis=1 patients: 18464 (15.42%)\n"
     ]
    }
   ],
   "source": [
    "# identify the medical facility for the dataset\n",
    "med_fac = 'grady' # 'grady' # 'emory'\n",
    "X = cohort.load_reference_data(med_fac,config, verbose=True)\n"
   ]
  },
  {
   "cell_type": "markdown",
   "metadata": {},
   "source": [
    "## Update Reference Data"
   ]
  },
  {
   "cell_type": "code",
   "execution_count": 3,
   "metadata": {},
   "outputs": [
    {
     "name": "stdout",
     "output_type": "stream",
     "text": [
      "Total CSNs included: 13289\n",
      "Removed CSNs:\n",
      "step           reason                          \n",
      "preprocessing  non-ICU patient                     101935\n",
      "               less than 24 hours of icu data        2616\n",
      "               corrupted file - did not process      1890\n",
      "               gender unknown                           3\n",
      "dtype: int64\n",
      "Number of encounters (csn): 13289\n",
      "Years: [2016 2017 2018 2019 2020]\n",
      "Start year: 2016\n",
      "End year: 2020\n",
      "Number of unique patient visits: 13289\n",
      "Number of unique patients: 12387\n",
      "Number of sepsis=1 patients: 4772 (35.91%)\n",
      "Number of sepsis=0 patients: 8517 (64.09%)\n"
     ]
    }
   ],
   "source": [
    "X = cohort.update_cohort(X, verbose=True)\n",
    "cohort.print_cohort_report(X,'csn','pat_id','sepsis')"
   ]
  },
  {
   "cell_type": "markdown",
   "metadata": {},
   "source": [
    "## Load Hourly Data"
   ]
  },
  {
   "cell_type": "code",
   "execution_count": 4,
   "metadata": {},
   "outputs": [
    {
     "name": "stderr",
     "output_type": "stream",
     "text": [
      "100%|██████████| 5/5 [00:34<00:00,  6.82s/it]\n"
     ]
    }
   ],
   "source": [
    "# get directory\n",
    "data_dir = config['DIR']['data'].format(RUN=RUN,TYPE='hourly')\n",
    "\n",
    "# list of patient data files\n",
    "files = [f for f in os.listdir(data_dir) if \"processed_data_\" in f]\n",
    "\n",
    "data_arr = []\n",
    "for file in tqdm(files, leave=True):\n",
    "    path = os.path.join(data_dir,file)\n",
    "    tmp = pd.read_csv(path,index_col=[0])\n",
    "    data_arr.append(tmp)\n",
    "\n",
    "# create dataframe\n",
    "df = pd.concat(data_arr,axis=0)\n"
   ]
  },
  {
   "cell_type": "markdown",
   "metadata": {},
   "source": [
    "## Load Hourly Data"
   ]
  },
  {
   "cell_type": "code",
   "execution_count": 4,
   "metadata": {},
   "outputs": [
    {
     "name": "stderr",
     "output_type": "stream",
     "text": [
      "100%|██████████| 5/5 [00:34<00:00,  6.84s/it]\n"
     ]
    }
   ],
   "source": [
    "df = cohort.load_hourly_data(config)"
   ]
  },
  {
   "cell_type": "markdown",
   "metadata": {},
   "source": [
    "## Create TableOne"
   ]
  },
  {
   "cell_type": "code",
   "execution_count": 5,
   "metadata": {},
   "outputs": [
    {
     "name": "stdout",
     "output_type": "stream",
     "text": [
      "                                                     Overall           Non-sepsis        Sepsis            P-Value\n",
      "---------------------------------------  ----------  ----------------  ----------------  ----------------  ---------\n",
      "n                                                    13289             8517              4772\n",
      "Age, median [Q1,Q3]                                  55.0 [39.0,66.0]  53.0 [36.0,64.0]  58.0 [45.0,68.0]  <0.001\n",
      "Gender, n (%)                            Female      4604 (34.6)       2912 (34.2)       1692 (35.5)       0.146\n",
      "                                         Male        8685 (65.4)       5605 (65.8)       3080 (64.5)\n",
      "Race, n (%)                              Asian       143 (1.1)         99 (1.2)          44 (0.9)          <0.001\n",
      "                                         Black       9114 (68.6)       5640 (66.2)       3474 (72.8)\n",
      "                                         Hispanic    588 (4.4)         388 (4.6)         200 (4.2)\n",
      "                                         Other       374 (2.8)         233 (2.7)         141 (3.0)\n",
      "                                         White       3070 (23.1)       2157 (25.3)       913 (19.1)\n",
      "ICU Length of stay (LOS), mean (SD)                  7.1 (9.6)         4.3 (3.5)         12.2 (14.0)       <0.001\n",
      "No. days on ventilator, mean (SD)                    3.8 (9.7)         1.0 (2.5)         8.9 (14.4)        <0.001\n",
      "LOS in hospital, mean (SD)                           15.6 (21.8)       10.6 (10.6)       24.5 (31.6)       <0.001\n",
      "Albumin, mean (SD)                                   3.1 (0.6)         3.3 (0.5)         2.7 (0.5)         <0.001\n",
      "Anion Gap, mean (SD)                                 9.0 (2.9)         8.6 (2.3)         9.7 (3.5)         <0.001\n",
      "Mean Arterial Pressure (MAP), mean (SD)              92.3 (21.9)       93.4 (12.2)       90.5 (32.7)       <0.001\n",
      "Bicarbonate (HCO3), mean (SD)                        25.3 (3.6)        25.7 (3.0)        24.6 (4.2)        <0.001\n",
      "Blood Urea Nitrogen, mean (SD)                       21.2 (17.1)       16.8 (12.5)       29.0 (21.0)       <0.001\n",
      "Calcium, mean (SD)                                   8.2 (0.7)         8.4 (0.6)         8.0 (0.7)         <0.001\n",
      "Chloride, mean (SD)                                  104.9 (5.6)       104.0 (4.8)       106.5 (6.4)       <0.001\n",
      "Creatinine, mean (SD)                                1.5 (1.7)         1.2 (1.5)         1.9 (1.9)         <0.001\n",
      "Weight (lbs), mean (SD)                              183.9 (52.9)      182.8 (48.7)      185.9 (59.7)      0.003\n",
      "Glasgow Comma Scale, mean (SD)                       12.6 (3.4)        13.7 (2.6)        10.5 (3.6)        <0.001\n",
      "Glucose, mean (SD)                                   132.0 (37.2)      127.2 (35.0)      140.4 (39.5)      <0.001\n",
      "Hematocrit, mean (SD)                                32.7 (6.3)        33.8 (6.4)        30.7 (5.7)        <0.001\n",
      "Hemoglobin, mean (SD)                                11.0 (2.1)        11.3 (2.1)        10.4 (1.9)        <0.001\n",
      "Platelets, mean (SD)                                 199.7 (87.6)      208.4 (83.4)      184.2 (92.5)      <0.001\n",
      "Potassium, mean (SD)                                 4.0 (0.4)         4.0 (0.3)         4.0 (0.4)         <0.001\n",
      "procedure, mean (SD)                                 0.0 (0.0)         0.0 (0.0)         0.0 (0.0)         <0.001\n",
      "Heart Rate, mean (SD)                                86.7 (14.8)       85.0 (14.7)       89.9 (14.4)       <0.001\n",
      "Sodium, mean (SD)                                    139.2 (4.7)       138.3 (4.0)       140.7 (5.3)       <0.001\n",
      "SpO2, mean (SD)                                      97.1 (2.0)        97.1 (1.8)        97.1 (2.4)        0.989\n",
      "Respiratory Rate, mean (SD)                          18.8 (2.8)        18.4 (2.4)        19.7 (3.2)        <0.001\n",
      "White Blood Cell Count, mean (SD)                    10.5 (5.3)        9.8 (4.2)         11.7 (6.6)        <0.001\n",
      "Temperature, mean (SD)                               98.5 (1.0)        98.4 (0.8)        98.7 (1.2)        <0.001\n",
      "Sepsis, n (%)                            Non-sepsis  8517 (64.1)       8517 (100.0)                        <0.001\n",
      "                                         Sepsis      4772 (35.9)                         4772 (100.0)\n"
     ]
    }
   ],
   "source": [
    "# filter reference data\n",
    "X = X[config['tableone']['keep_reference']]\n",
    "# filter hourly data\n",
    "df = df[config['tableone']['keep_hourly']]\n",
    "df_agg = df.groupby('csn').mean().reset_index()\n",
    "df_t1 = df_agg.merge(X, on='csn', copy=False)\n",
    "\n",
    "# clean column values\n",
    "df_t1['total_vent_days'] = df_t1['total_vent_days'].fillna(0.0)\n",
    "df_t1['daily_weight_kg'] = df_t1['daily_weight_kg']/0.453592\n",
    "df_t1['sepsis'] = df_t1['sepsis'].map({False:\"Non-sepsis\",True:\"Sepsis\"})\n",
    "df_t1['gender'] = df_t1['gender'].map({0:'Male',1:'Female'})\n",
    "df_t1 = df_t1.drop(columns=['csn'])\n",
    "\n",
    "# define columns for table one\n",
    "columns = config['tableone']['columns']\n",
    "categorical = config['tableone']['categorical']\n",
    "nonnormal = config['tableone']['nonnormal']\n",
    "labels = config['tableone']['labels']\n",
    "# set label to group columns in Table One\n",
    "groupby = 'sepsis'\n",
    "\n",
    "# create Table One\n",
    "table_one = TableOne(df_t1, columns=columns, categorical=categorical, nonnormal=nonnormal, groupby=groupby,rename=labels, pval=True,missing=False)\n",
    "print(table_one.tabulate(tablefmt='simple'))\n",
    "\n",
    "# save TableOne\n",
    "TYPE = 'tableOne'\n",
    "path = config['DIR']['data'].format(RUN=RUN, TYPE=TYPE)\n",
    "filename = 'tableOne.tex'\n",
    "filepath = os.path.join(path,filename)\n",
    "\n",
    "table_one.to_latex(filepath)"
   ]
  }
 ],
 "metadata": {
  "kernelspec": {
   "display_name": "Python 3",
   "language": "python",
   "name": "python3"
  },
  "language_info": {
   "codemirror_mode": {
    "name": "ipython",
    "version": 3
   },
   "file_extension": ".py",
   "mimetype": "text/x-python",
   "name": "python",
   "nbconvert_exporter": "python",
   "pygments_lexer": "ipython3",
   "version": "3.6.12"
  },
  "widgets": {
   "application/vnd.jupyter.widget-state+json": {
    "state": {},
    "version_major": 2,
    "version_minor": 0
   }
  }
 },
 "nbformat": 4,
 "nbformat_minor": 4
}
